{
 "cells": [
  {
   "cell_type": "markdown",
   "metadata": {},
   "source": [
    "# Notes for Deep Learning by Udacity"
   ]
  },
  {
   "cell_type": "markdown",
   "metadata": {},
   "source": [
    "## Starting off!"
   ]
  },
  {
   "cell_type": "markdown",
   "metadata": {},
   "source": [
    "A well conditioned problem makes it easier for the optimiser to do it's job\n",
    "\n",
    "\n",
    "\n"
   ]
  },
  {
   "cell_type": "markdown",
   "metadata": {},
   "source": [
    "### Importance of validation / cross-validation sets"
   ]
  },
  {
   "cell_type": "markdown",
   "metadata": {},
   "source": [
    "Training a classifier is usually trial and error\n",
    "Classifier has seen the test data. i.e. we have given info about the test set to the classifier. Test data 'bleeds' into your training data. Hence use the cross validation set.\n",
    "Use the test set to measure the classifiers real performance.\n",
    "\n",
    "Bigger the validation, more precise the numbers??\n",
    "\n",
    "For a Validation set of >30,000; improvement of 0.1% in accuracy is considered significant (This is assuming that an improvement of 30 samples is considered significant) assuming classes are balanced.\n",
    "\n",
    "Cross-validation can be used if the dataset is not large enough to take 30,000 examples into the validation set.\n"
   ]
  },
  {
   "cell_type": "code",
   "execution_count": 1,
   "metadata": {
    "collapsed": false
   },
   "outputs": [
    {
     "name": "stdout",
     "output_type": "stream",
     "text": [
      "[[[ 1  2  3]\n",
      "  [11 22 33]]\n",
      "\n",
      " [[ 4  5  6]\n",
      "  [44 55 66]]\n",
      "\n",
      " [[ 7  8  9]\n",
      "  [77 88 99]]]\n"
     ]
    }
   ],
   "source": [
    "import numpy as np\n",
    "a = [[[1,2,3],[11,22,33]],[[4,5,6],[44,55,66]],[[7,8,9],[77,88,99]]]\n",
    "a= np.array(a)\n",
    "print(a)"
   ]
  },
  {
   "cell_type": "code",
   "execution_count": 2,
   "metadata": {
    "collapsed": true
   },
   "outputs": [],
   "source": [
    "b=np.reshape(a, (a.shape[0], a.shape[1]*a.shape[2]))"
   ]
  },
  {
   "cell_type": "code",
   "execution_count": 3,
   "metadata": {
    "collapsed": false
   },
   "outputs": [
    {
     "name": "stdout",
     "output_type": "stream",
     "text": [
      "3\n",
      "[[ 1  2  3 11 22 33]\n",
      " [ 4  5  6 44 55 66]\n",
      " [ 7  8  9 77 88 99]]\n"
     ]
    }
   ],
   "source": [
    "print(a.shape[0])\n",
    "print(b)"
   ]
  },
  {
   "cell_type": "code",
   "execution_count": 4,
   "metadata": {
    "collapsed": false
   },
   "outputs": [
    {
     "data": {
      "text/plain": [
       "array([[[ 1,  2,  3],\n",
       "        [11, 22, 33]],\n",
       "\n",
       "       [[ 4,  5,  6],\n",
       "        [44, 55, 66]],\n",
       "\n",
       "       [[ 7,  8,  9],\n",
       "        [77, 88, 99]]])"
      ]
     },
     "execution_count": 4,
     "metadata": {},
     "output_type": "execute_result"
    }
   ],
   "source": [
    "np.ascontiguousarray(a)"
   ]
  },
  {
   "cell_type": "code",
   "execution_count": 33,
   "metadata": {
    "collapsed": false
   },
   "outputs": [
    {
     "name": "stdout",
     "output_type": "stream",
     "text": [
      "(3, 6)\n",
      "[12 13 14]\n"
     ]
    },
    {
     "data": {
      "text/plain": [
       "array([[ 1,  2,  3, 11, 22, 33, 12],\n",
       "       [ 4,  5,  6, 44, 55, 66, 13],\n",
       "       [ 7,  8,  9, 77, 88, 99, 14]])"
      ]
     },
     "execution_count": 33,
     "metadata": {},
     "output_type": "execute_result"
    }
   ],
   "source": [
    "c= np.array([12,13, 14])\n",
    "print(b.shape)\n",
    "print(c)\n",
    "# np.concatenate([b,c], axis=1)\n",
    "# np.hstack((b,c.T))\n",
    "c = np.reshape(c, (3,1))\n",
    "np.concatenate([b,c], axis=1)\n",
    "\n"
   ]
  },
  {
   "cell_type": "code",
   "execution_count": 17,
   "metadata": {
    "collapsed": true
   },
   "outputs": [],
   "source": [
    "??np.concatenate()"
   ]
  },
  {
   "cell_type": "code",
   "execution_count": 43,
   "metadata": {
    "collapsed": false
   },
   "outputs": [
    {
     "name": "stdout",
     "output_type": "stream",
     "text": [
      "[[[ 1  2  3]\n",
      "  [11 22 33]]\n",
      "\n",
      " [[ 4  5  6]\n",
      "  [44 55 66]]\n",
      "\n",
      " [[ 7  8  9]\n",
      "  [77 88 99]]]\n"
     ]
    }
   ],
   "source": [
    "print(a)"
   ]
  },
  {
   "cell_type": "code",
   "execution_count": 35,
   "metadata": {
    "collapsed": false
   },
   "outputs": [
    {
     "data": {
      "text/plain": [
       "array([ 1,  2,  3,  4,  5,  6,  7,  8,  9, 11, 22, 33, 44, 55, 66, 77, 88,\n",
       "       99])"
      ]
     },
     "execution_count": 35,
     "metadata": {},
     "output_type": "execute_result"
    }
   ],
   "source": [
    "np.unique(a)"
   ]
  },
  {
   "cell_type": "code",
   "execution_count": 42,
   "metadata": {
    "collapsed": false
   },
   "outputs": [
    {
     "data": {
      "text/plain": [
       "{(1, 2, 3, 11, 22, 33), (4, 5, 6, 44, 55, 66), (7, 8, 9, 77, 88, 99)}"
      ]
     },
     "execution_count": 42,
     "metadata": {},
     "output_type": "execute_result"
    }
   ],
   "source": [
    "set(map(tuple,np.reshape(a, (a.shape[0], a.shape[0]*a.shape[1]))))\n"
   ]
  },
  {
   "cell_type": "code",
   "execution_count": 44,
   "metadata": {
    "collapsed": false
   },
   "outputs": [
    {
     "data": {
      "text/plain": [
       "array([[[ 1,  2,  3],\n",
       "        [11, 22, 33]],\n",
       "\n",
       "       [[ 4,  5,  6],\n",
       "        [44, 55, 66]],\n",
       "\n",
       "       [[ 7,  8,  9],\n",
       "        [77, 88, 99]]])"
      ]
     },
     "execution_count": 44,
     "metadata": {},
     "output_type": "execute_result"
    }
   ],
   "source": [
    "np.ascontiguousarray(a)"
   ]
  },
  {
   "cell_type": "code",
   "execution_count": 47,
   "metadata": {
    "collapsed": false
   },
   "outputs": [
    {
     "data": {
      "text/plain": [
       "array([ 1,  2,  3, 11, 22, 33,  4,  5,  6, 44, 55, 66,  7,  8,  9, 77, 88,\n",
       "       99])"
      ]
     },
     "execution_count": 47,
     "metadata": {},
     "output_type": "execute_result"
    }
   ],
   "source": [
    "a.flatten()"
   ]
  },
  {
   "cell_type": "code",
   "execution_count": 49,
   "metadata": {
    "collapsed": false
   },
   "outputs": [
    {
     "data": {
      "text/plain": [
       "array([ 1,  2,  3, 11, 22, 33,  4,  5,  6, 44, 55, 66,  7,  8,  9, 77, 88,\n",
       "       99])"
      ]
     },
     "execution_count": 49,
     "metadata": {},
     "output_type": "execute_result"
    }
   ],
   "source": [
    "np.ravel(a)"
   ]
  },
  {
   "cell_type": "code",
   "execution_count": null,
   "metadata": {
    "collapsed": true
   },
   "outputs": [],
   "source": []
  }
 ],
 "metadata": {
  "kernelspec": {
   "display_name": "Python 3",
   "language": "python",
   "name": "python3"
  },
  "language_info": {
   "codemirror_mode": {
    "name": "ipython",
    "version": 3
   },
   "file_extension": ".py",
   "mimetype": "text/x-python",
   "name": "python",
   "nbconvert_exporter": "python",
   "pygments_lexer": "ipython3",
   "version": "3.5.1"
  }
 },
 "nbformat": 4,
 "nbformat_minor": 1
}
